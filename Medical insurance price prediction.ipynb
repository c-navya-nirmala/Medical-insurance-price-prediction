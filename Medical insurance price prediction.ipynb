{
 "cells": [
  {
   "cell_type": "markdown",
   "id": "17d86b70-162e-4de8-aef7-016e4944421d",
   "metadata": {},
   "source": [
    "# <center>Medical insurance price predictionn</center>\n",
    "\n",
    "### Aim :\n",
    "- To Implement a Linear Regression model and predict medical insurance prices based on user input\n",
    "- It is an **supervised Learning** problem statement.\n",
    "\n",
    "### <center>Dataset Attributes</center>\n",
    "    \n",
    "- **bmi** : BMI of the customer\n",
    "- **Sex** : Gender of the customer\n",
    "- **Age** : Age of the customer\n",
    "- **children** : Number of children a customer has\n",
    "- **charges** : Insurance charges of each customer\n",
    "- **smoker** : Whether the customer is a smoker or not\n",
    "- **region** : Region which the customer belongs"
   ]
  },
  {
   "cell_type": "markdown",
   "id": "79db1708-fbad-4c45-b1e9-6e710dff7a81",
   "metadata": {},
   "source": [
    "### Notebook Contents :\n",
    "- Dataset Information\n",
    "- Exploratory Data Analysis (EDA)\n",
    "- Summary of EDA\n",
    "- Feature Engineering\n",
    "- Modeling\n",
    "- Conclusion"
   ]
  },
  {
   "cell_type": "markdown",
   "id": "c1262d4a-a9b9-4244-b0d0-44e55832d312",
   "metadata": {},
   "source": [
    "# <center>Dataset Information</center>"
   ]
  },
  {
   "cell_type": "markdown",
   "id": "c3896b47-b5a2-46a3-8a8a-d18aa27db89f",
   "metadata": {},
   "source": [
    "### Import the Necessary Libraries :"
   ]
  },
  {
   "cell_type": "code",
   "execution_count": 2,
   "id": "514ba104-2c5c-44aa-8b93-08ba66500fad",
   "metadata": {},
   "outputs": [],
   "source": [
    "\n",
    "import numpy as np\n",
    "import pandas as pd\n",
    "import matplotlib.pyplot as plt\n",
    "import seaborn as sns\n",
    "from sklearn.model_selection import train_test_split\n",
    "from sklearn.linear_model import LinearRegression\n",
    "from sklearn import metrics\n",
    "import warnings\n",
    "warnings.filterwarnings('ignore')"
   ]
  },
  {
   "cell_type": "code",
   "execution_count": 3,
   "id": "23bdbd73-cb56-40c6-993e-b0ee15009198",
   "metadata": {},
   "outputs": [
    {
     "data": {
      "text/html": [
       "<div>\n",
       "<style scoped>\n",
       "    .dataframe tbody tr th:only-of-type {\n",
       "        vertical-align: middle;\n",
       "    }\n",
       "\n",
       "    .dataframe tbody tr th {\n",
       "        vertical-align: top;\n",
       "    }\n",
       "\n",
       "    .dataframe thead th {\n",
       "        text-align: right;\n",
       "    }\n",
       "</style>\n",
       "<table border=\"1\" class=\"dataframe\">\n",
       "  <thead>\n",
       "    <tr style=\"text-align: right;\">\n",
       "      <th></th>\n",
       "      <th>age</th>\n",
       "      <th>sex</th>\n",
       "      <th>bmi</th>\n",
       "      <th>children</th>\n",
       "      <th>smoker</th>\n",
       "      <th>region</th>\n",
       "      <th>charges</th>\n",
       "    </tr>\n",
       "  </thead>\n",
       "  <tbody>\n",
       "    <tr>\n",
       "      <th>0</th>\n",
       "      <td>19</td>\n",
       "      <td>female</td>\n",
       "      <td>27.900</td>\n",
       "      <td>0</td>\n",
       "      <td>yes</td>\n",
       "      <td>southwest</td>\n",
       "      <td>16884.92400</td>\n",
       "    </tr>\n",
       "    <tr>\n",
       "      <th>1</th>\n",
       "      <td>18</td>\n",
       "      <td>male</td>\n",
       "      <td>33.770</td>\n",
       "      <td>1</td>\n",
       "      <td>no</td>\n",
       "      <td>southeast</td>\n",
       "      <td>1725.55230</td>\n",
       "    </tr>\n",
       "    <tr>\n",
       "      <th>2</th>\n",
       "      <td>28</td>\n",
       "      <td>male</td>\n",
       "      <td>33.000</td>\n",
       "      <td>3</td>\n",
       "      <td>no</td>\n",
       "      <td>southeast</td>\n",
       "      <td>4449.46200</td>\n",
       "    </tr>\n",
       "    <tr>\n",
       "      <th>3</th>\n",
       "      <td>33</td>\n",
       "      <td>male</td>\n",
       "      <td>22.705</td>\n",
       "      <td>0</td>\n",
       "      <td>no</td>\n",
       "      <td>northwest</td>\n",
       "      <td>21984.47061</td>\n",
       "    </tr>\n",
       "    <tr>\n",
       "      <th>4</th>\n",
       "      <td>32</td>\n",
       "      <td>male</td>\n",
       "      <td>28.880</td>\n",
       "      <td>0</td>\n",
       "      <td>no</td>\n",
       "      <td>northwest</td>\n",
       "      <td>3866.85520</td>\n",
       "    </tr>\n",
       "  </tbody>\n",
       "</table>\n",
       "</div>"
      ],
      "text/plain": [
       "   age     sex     bmi  children smoker     region      charges\n",
       "0   19  female  27.900         0    yes  southwest  16884.92400\n",
       "1   18    male  33.770         1     no  southeast   1725.55230\n",
       "2   28    male  33.000         3     no  southeast   4449.46200\n",
       "3   33    male  22.705         0     no  northwest  21984.47061\n",
       "4   32    male  28.880         0     no  northwest   3866.85520"
      ]
     },
     "execution_count": 3,
     "metadata": {},
     "output_type": "execute_result"
    }
   ],
   "source": [
    "df = pd.read_csv('medical_insurance.csv')\n",
    "df.head()"
   ]
  },
  {
   "cell_type": "markdown",
   "id": "c5f7c9f9-d40c-46ef-820f-2b6493751a3d",
   "metadata": {},
   "source": [
    "### Data Info :"
   ]
  },
  {
   "cell_type": "code",
   "execution_count": 4,
   "id": "e1932ea9-4b75-4ced-95fc-5e5e119030da",
   "metadata": {},
   "outputs": [
    {
     "data": {
      "text/plain": [
       "(2772, 7)"
      ]
     },
     "execution_count": 4,
     "metadata": {},
     "output_type": "execute_result"
    }
   ],
   "source": [
    "df.shape\n"
   ]
  },
  {
   "cell_type": "code",
   "execution_count": 5,
   "id": "fc2de113-2adb-48bd-9841-02c1b7286298",
   "metadata": {},
   "outputs": [
    {
     "name": "stdout",
     "output_type": "stream",
     "text": [
      "<class 'pandas.core.frame.DataFrame'>\n",
      "RangeIndex: 2772 entries, 0 to 2771\n",
      "Data columns (total 7 columns):\n",
      " #   Column    Non-Null Count  Dtype  \n",
      "---  ------    --------------  -----  \n",
      " 0   age       2772 non-null   int64  \n",
      " 1   sex       2772 non-null   object \n",
      " 2   bmi       2772 non-null   float64\n",
      " 3   children  2772 non-null   int64  \n",
      " 4   smoker    2772 non-null   object \n",
      " 5   region    2772 non-null   object \n",
      " 6   charges   2772 non-null   float64\n",
      "dtypes: float64(2), int64(2), object(3)\n",
      "memory usage: 151.7+ KB\n"
     ]
    }
   ],
   "source": [
    "df.info()\n"
   ]
  },
  {
   "cell_type": "code",
   "execution_count": 6,
   "id": "c0890a5e-052b-48f0-b8d7-534ecb25fd8e",
   "metadata": {},
   "outputs": [
    {
     "data": {
      "text/plain": [
       "Index(['age', 'sex', 'bmi', 'children', 'smoker', 'region', 'charges'], dtype='object')"
      ]
     },
     "execution_count": 6,
     "metadata": {},
     "output_type": "execute_result"
    }
   ],
   "source": [
    "df.columns"
   ]
  },
  {
   "cell_type": "code",
   "execution_count": 7,
   "id": "94869024-0d7b-4f0f-be2b-f3f99f452be9",
   "metadata": {},
   "outputs": [
    {
     "data": {
      "image/png": "[encoded data removed]",
      "text/plain": [
       "<Figure size 640x480 with 1 Axes>"
      ]
     },
     "metadata": {},
     "output_type": "display_data"
    }
   ],
   "source": [
    "sns.heatmap(df.isnull(),cmap = 'magma',cbar = False);\n"
   ]
  },
  {
   "cell_type": "markdown",
   "id": "16951d7f-ae8f-424c-927c-c60ecdcb3e6e",
   "metadata": {},
   "source": [
    "- **No null values** present in the data!"
   ]
  },
  {
   "cell_type": "code",
   "execution_count": 8,
   "id": "68f2c559-8333-4e44-b1df-2ddb98f11cde",
   "metadata": {},
   "outputs": [
    {
     "data": {
      "text/plain": [
       "0       False\n",
       "1       False\n",
       "2       False\n",
       "3       False\n",
       "4       False\n",
       "        ...  \n",
       "2767     True\n",
       "2768     True\n",
       "2769     True\n",
       "2770     True\n",
       "2771     True\n",
       "Length: 2772, dtype: bool"
      ]
     },
     "execution_count": 8,
     "metadata": {},
     "output_type": "execute_result"
    }
   ],
   "source": [
    "df.duplicated()"
   ]
  },
  {
   "cell_type": "markdown",
   "id": "55b895c6-eb5c-44bf-9b54-44ff917174b8",
   "metadata": {},
   "source": [
    "- **Duplicate values** are present in the data!"
   ]
  },
  {
   "cell_type": "code",
   "execution_count": 9,
   "id": "29ee9594-34e1-4266-b080-bb155b5f38c9",
   "metadata": {},
   "outputs": [],
   "source": [
    "df = df.drop_duplicates(keep='first')"
   ]
  },
  {
   "cell_type": "code",
   "execution_count": 10,
   "id": "96f924ca-8543-42b4-bc44-812bd65d76e6",
   "metadata": {},
   "outputs": [
    {
     "data": {
      "text/html": [
       "<div>\n",
       "<style scoped>\n",
       "    .dataframe tbody tr th:only-of-type {\n",
       "        vertical-align: middle;\n",
       "    }\n",
       "\n",
       "    .dataframe tbody tr th {\n",
       "        vertical-align: top;\n",
       "    }\n",
       "\n",
       "    .dataframe thead th {\n",
       "        text-align: right;\n",
       "    }\n",
       "</style>\n",
       "<table border=\"1\" class=\"dataframe\">\n",
       "  <thead>\n",
       "    <tr style=\"text-align: right;\">\n",
       "      <th></th>\n",
       "      <th>age</th>\n",
       "      <th>bmi</th>\n",
       "      <th>children</th>\n",
       "      <th>charges</th>\n",
       "    </tr>\n",
       "  </thead>\n",
       "  <tbody>\n",
       "    <tr>\n",
       "      <th>count</th>\n",
       "      <td>1337.000000</td>\n",
       "      <td>1337.000000</td>\n",
       "      <td>1337.000000</td>\n",
       "      <td>1337.000000</td>\n",
       "    </tr>\n",
       "    <tr>\n",
       "      <th>mean</th>\n",
       "      <td>39.222139</td>\n",
       "      <td>30.663452</td>\n",
       "      <td>1.095737</td>\n",
       "      <td>13279.121487</td>\n",
       "    </tr>\n",
       "    <tr>\n",
       "      <th>std</th>\n",
       "      <td>14.044333</td>\n",
       "      <td>6.100468</td>\n",
       "      <td>1.205571</td>\n",
       "      <td>12110.359656</td>\n",
       "    </tr>\n",
       "    <tr>\n",
       "      <th>min</th>\n",
       "      <td>18.000000</td>\n",
       "      <td>15.960000</td>\n",
       "      <td>0.000000</td>\n",
       "      <td>1121.873900</td>\n",
       "    </tr>\n",
       "    <tr>\n",
       "      <th>25%</th>\n",
       "      <td>27.000000</td>\n",
       "      <td>26.290000</td>\n",
       "      <td>0.000000</td>\n",
       "      <td>4746.344000</td>\n",
       "    </tr>\n",
       "    <tr>\n",
       "      <th>50%</th>\n",
       "      <td>39.000000</td>\n",
       "      <td>30.400000</td>\n",
       "      <td>1.000000</td>\n",
       "      <td>9386.161300</td>\n",
       "    </tr>\n",
       "    <tr>\n",
       "      <th>75%</th>\n",
       "      <td>51.000000</td>\n",
       "      <td>34.700000</td>\n",
       "      <td>2.000000</td>\n",
       "      <td>16657.717450</td>\n",
       "    </tr>\n",
       "    <tr>\n",
       "      <th>max</th>\n",
       "      <td>64.000000</td>\n",
       "      <td>53.130000</td>\n",
       "      <td>5.000000</td>\n",
       "      <td>63770.428010</td>\n",
       "    </tr>\n",
       "  </tbody>\n",
       "</table>\n",
       "</div>"
      ],
      "text/plain": [
       "               age          bmi     children       charges\n",
       "count  1337.000000  1337.000000  1337.000000   1337.000000\n",
       "mean     39.222139    30.663452     1.095737  13279.121487\n",
       "std      14.044333     6.100468     1.205571  12110.359656\n",
       "min      18.000000    15.960000     0.000000   1121.873900\n",
       "25%      27.000000    26.290000     0.000000   4746.344000\n",
       "50%      39.000000    30.400000     1.000000   9386.161300\n",
       "75%      51.000000    34.700000     2.000000  16657.717450\n",
       "max      64.000000    53.130000     5.000000  63770.428010"
      ]
     },
     "execution_count": 10,
     "metadata": {},
     "output_type": "execute_result"
    }
   ],
   "source": [
    "df.describe()\n"
   ]
  },
  {
   "cell_type": "markdown",
   "id": "227dd367-1e8c-41f2-b7ac-8942ac1251a0",
   "metadata": {},
   "source": [
    "## Data Description\n",
    "\n",
    "The dataset contains information about individuals, with columns for age, BMI (Body Mass Index), number of children, and insurance charges.\n",
    "\n",
    "### 1. Age\n",
    "   - The ages in the dataset range from **18** to **64** years.\n",
    "   - The average age is approximately **39** years.\n",
    "\n",
    "### 2. BMI (Body Mass Index)\n",
    "   - The BMI values range from **15.96** to **53.13**.\n",
    "   - The average BMI is around **30.66**.\n",
    "### 3.Children:\n",
    "   -The number of children per individual ranges from **0 to 5**.\n",
    "### 4. Charges\n",
    "   - Insurance charges vary widely, with the minimum being **1121.87** and the maximum reaching **63770.43**.\n",
    "   - The average insurance charge is approximately **13279.12**.\n",
    "\n",
    "Additionally, summary statistics (count, mean, standard deviation, minimum, 25th percentile, median, 75th percentile, and maximum) provide a comprehensive overview of the distribution of values in each column. These statistics can help understand the central tendency, spread, and overall shape of the data in each category.\n"
   ]
  },
  {
   "cell_type": "markdown",
   "id": "584232b8-46d3-4647-82d6-03ef47881a4d",
   "metadata": {},
   "source": [
    "# <center>Exploratory Data Analysis</center>"
   ]
  },
  {
   "cell_type": "markdown",
   "id": "cad8b59b-eb8c-4a82-8826-2dc9503de877",
   "metadata": {},
   "source": [
    "### Dividing features into Numerical and Categorical :"
   ]
  },
  {
   "cell_type": "code",
   "execution_count": 11,
   "id": "16f7288d-1cc7-48b2-8be8-fd513dce9589",
   "metadata": {},
   "outputs": [
    {
     "name": "stdout",
     "output_type": "stream",
     "text": [
      "Categorical Features: sex smoker region\n",
      "Numerical Features: age bmi children charges\n"
     ]
    }
   ],
   "source": [
    "col = list(df.columns)\n",
    "categorical_features = []\n",
    "numerical_features = []\n",
    "\n",
    "for i in col:\n",
    "    if df[i].dtype == 'object':  # Check if the data type is object (categorical)\n",
    "        categorical_features.append(i)\n",
    "    else:\n",
    "        numerical_features.append(i)\n",
    "\n",
    "print('Categorical Features:', *categorical_features)\n",
    "print('Numerical Features:', *numerical_features)\n"
   ]
  },
  {
   "cell_type": "markdown",
   "id": "888f8a10-c702-42c6-a3ac-f675cd5b6d0d",
   "metadata": {},
   "source": [
    "## Feature Classification\n",
    "\n",
    "The provided code classifies features into categorical and numerical types based on their data types. If a feature has the data type 'object,' it is considered categorical; otherwise, it is classified as numerical.\n"
   ]
  },
  {
   "cell_type": "code",
   "execution_count": 12,
   "id": "036e4aad-21dd-4cbc-b8c4-764ae84bbca5",
   "metadata": {},
   "outputs": [
    {
     "data": {
      "image/png": "[encoded data removed]",
      "text/plain": [
       "<Figure size 2000x1000 with 3 Axes>"
      ]
     },
     "metadata": {},
     "output_type": "display_data"
    }
   ],
   "source": [
    "features = ['sex', 'smoker', 'region']\n",
    "\n",
    "plt.subplots(figsize=(20, 10))\n",
    "for i, col in enumerate(features):\n",
    "    plt.subplot(1, 3, i + 1)\n",
    "\n",
    "    values = df[col].value_counts()\n",
    "    plt.pie(values, labels=values.index, autopct='%1.1f%%')\n",
    "\n",
    "    plt.title(col)  # Add the feature name as the title\n",
    "\n",
    "plt.show()\n"
   ]
  },
  {
   "cell_type": "markdown",
   "id": "eb001a48-8064-44ea-8a6d-e0dc0134b53e",
   "metadata": {},
   "source": [
    "## Categorical Feature Distribution Visualization\n",
    "\n",
    "This code generates a set of three pie charts to visually represent the distribution of unique values in three categorical features: **'sex'**, **'smoker'**, and **'region'**. Each pie chart illustrates the proportion of occurrences for each unique category within the respective feature. The figure is organized into three subplots, one for each categorical feature, providing a quick and insightful overview of the distribution patterns in the dataset.\n",
    "\n"
   ]
  },
  {
   "cell_type": "code",
   "execution_count": 13,
   "id": "3522f1a2-c2ea-4e77-b9d2-8e6c82dc6fbd",
   "metadata": {},
   "outputs": [],
   "source": [
    "# encoding sex column\n",
    "df.replace({'sex':{'male':0,'female':1}}, inplace=True)\n",
    "\n",
    "3 # encoding 'smoker' column\n",
    "df.replace({'smoker':{'yes':0,'no':1}}, inplace=True)\n",
    "\n",
    "# encoding 'region' column\n",
    "df.replace({'region':{'southeast':0,'southwest':1,'northeast':2,'northwest':3}}, inplace=True)"
   ]
  },
  {
   "cell_type": "markdown",
   "id": "9cfbdbae-2904-471d-82cb-18bacd8f158a",
   "metadata": {},
   "source": [
    "**Transformed categorical columns:**\r\n",
    "\r\n",
    "- **Sex:** Encoded as 0 for male and 1 for female.\r\n",
    "\r\n",
    "- **Smoker:** Encoded as 0 for yes and 1 for no.\r\n",
    "\r\n",
    "- **Region:** Encoded with southeast as 0, southwest as 1, northeast as 2, and northwest as 3.\r\n",
    "\r\n",
    "This encoding enhances machine learning compatibility, providing numerical representations for categorical variables.\r\n"
   ]
  },
  {
   "cell_type": "code",
   "execution_count": null,
   "id": "6c0631b4-ac64-42dd-9891-63c5dde9431f",
   "metadata": {},
   "outputs": [],
   "source": [
    "\n",
    "\n",
    "# Plotting for Categorical Features\n",
    "fig, axes = plt.subplots(nrows=1, ncols=len(categorical_features), figsize=(15, 5))\n",
    "for i, col in enumerate(categorical_features):\n",
    "    sns.countplot(x=df[col], ax=axes[i])\n",
    "    title = 'Distribution: ' + col\n",
    "    axes[i].set_title(title)\n",
    "\n",
    "# Plotting for Numerical Features\n",
    "fig, axes = plt.subplots(nrows=2, ncols=2, figsize=(15, 10))\n",
    "for i, col in enumerate(numerical_features):\n",
    "    sns.histplot(df[col], ax=axes[i//2, i%2], kde=True)\n",
    "    title = 'Distribution: ' + col\n",
    "    axes[i//2, i%2].set_title(title)\n",
    "\n",
    "plt.show()\n"
   ]
  },
  {
   "cell_type": "markdown",
   "id": "3894b4b8-9fa1-47f3-8f84-638c10195f1a",
   "metadata": {},
   "source": [
    "# <center>Summary of EDA</center>"
   ]
  },
  {
   "cell_type": "markdown",
   "id": "ced91b4e-429a-49cf-ac53-4b08e2ef62f0",
   "metadata": {},
   "source": [
    "- **bmi:** The categorical feature, data displays a **normally distributed**.\n",
    "\n",
    "- **Charges:** The distribution is **left-skewed**.\n",
    "\n",
    "- **Children:** The number of children per individual ranges from **0 to 5**, with **0** being the most common (573 occurrences). There are a total of **6** unique values.\n",
    "\n",
    "- **Smoker:** There are two unique values for the smoking status: **0** and **1**. The majority (**1063** instances) indicate individuals who are smokers, while **274** indicate non-smokers.\n",
    "\n",
    "- **Region:** The 'region' column shows nearly equal distribution among its four unique values. Region 0 has 364 occurrences, Region 1 has 325 occurrences, while both Regions 2 and 3 each have 324 occurrences.\n",
    "  \n",
    "- **Sex:** The 'sex' column shows two unique values. There are 675 occurrences of '0' (male) and 662 occurrences of '1' (female). \n",
    "   \n",
    "- **Age:** The distribution spans from 18 to 64 years, with an average age of approximately 39 years which suggest a relatively balanced representation of both genders in the dataset."
   ]
  },
  {
   "cell_type": "markdown",
   "id": "5710d3b4-1bde-4858-8703-ff2b9a301c88",
   "metadata": {},
   "source": [
    "# <center>Feature Engineering</center>"
   ]
  },
  {
   "cell_type": "markdown",
   "id": "936c280a-e5e9-4fb6-9af3-8fc849056506",
   "metadata": {},
   "source": [
    "### Correlation Matrix :"
   ]
  },
  {
   "cell_type": "code",
   "execution_count": null,
   "id": "5c5733bb-a0f8-4e92-8907-8b66a24c032d",
   "metadata": {},
   "outputs": [],
   "source": [
    "ut = np.triu(df.corr())\n",
    "lt = np.tril(df.corr())\n",
    "\n",
    "fig,ax = plt.subplots(nrows = 1, ncols = 2,figsize = (15,5))\n",
    "plt.subplot(1,2,1)\n",
    "sns.heatmap(df.corr(),cmap = 'inferno',annot = True,cbar = 'True',mask = ut);\n",
    "plt.title('Correlation Matrix : Upper Triangular Format');\n",
    "\n",
    "plt.subplot(1,2,2)\n",
    "sns.heatmap(df.corr(),cmap = 'inferno',annot = True,cbar = 'True',mask = lt);\n",
    "plt.title('Correlation Matrix : Lower Triangular Format');\n"
   ]
  },
  {
   "cell_type": "code",
   "execution_count": null,
   "id": "36c51cd9-f7e9-45fb-b444-c038cfcdcef2",
   "metadata": {},
   "outputs": [],
   "source": [
    "import pandas as pd\n",
    "\n",
    "# Assuming df is your DataFrame\n",
    "# If it's not already defined, you can create it using your data\n",
    "\n",
    "# Generate correlation matrix\n",
    "correlation_table = df.corr()\n",
    "\n",
    "# Print or display the correlation table\n",
    "print(correlation_table)\n"
   ]
  },
  {
   "cell_type": "markdown",
   "id": "e8705962-a302-4ed4-9f53-8fee63b52c19",
   "metadata": {},
   "source": [
    "- Both the matrix displayed are same! It is only done for visualization purpose. This trick can be used when the dataset has too many features to look into!\n",
    "- **Smoker and Charges:** \n",
    "Being a smoker shows a **strong negative correlation** of approximately **-0.79** with charges. This suggests that smokers tend to have significantly higher insurance charges compared to non-smokers\n",
    "- This information is gained from the **EDA** section the correlation matrix values further back the evidence. \n",
    "- We will now move to the modeling section by creating combinations of these features and finding different ways in which the mall customers can be segmented!.\r\n"
   ]
  },
  {
   "cell_type": "markdown",
   "id": "77ae7fa3-4cc5-416a-a8af-686da9644912",
   "metadata": {},
   "source": [
    "# <center>Modeling</center>"
   ]
  },
  {
   "cell_type": "markdown",
   "id": "03dbe0d0-eead-4093-a5ca-260ecaa3c0c6",
   "metadata": {},
   "source": [
    "- **Supervised Learning**: It is a problem where the target variable is known and used for training the model. **Supervised Learning** is commonly applied in scenarios where there is a clear understanding of the relationship between input features and the target variable. In the context of healthcare, for example, predicting the likelihood of a patient having a specific disease based on known symptoms falls under supervised learning.\n",
    "\n",
    "- **Linear Regression**, a fundamental supervised learning algorithm, aims to model the relationship between a dependent variable and one or more independent variables. It is particularly useful for predicting continuous outcomes. In healthcare, Linear Regression could be employed to predict patient blood pressure based on various health indicators, providing insights into potential risks.\n",
    "\n",
    "- **Linear Regression is especially powerful when visualizing relationships between variables becomes impractical due to large datasets or numerous features. Instead of relying solely on visualization, Linear Regression uses a mathematical approach to identify patterns and relationships within the data.**\n",
    "\n",
    "- However, it's crucial to note that Linear Regression assumes a linear relationship between the independent and dependent variables. It might not be suitable for capturing complex, non-linear patterns in the data.\n",
    "\n",
    "- **Key Features**:\n",
    "  - **Coefficients**: Linear Regression assigns coefficients to each independent variable, indicating their impact on the dependent variable.\n",
    "  - **Intercept**: The intercept represents the expected value of the dependent variable when all independent variables are zero.\n",
    "\n",
    "- **Performance Evaluation**:\n",
    "  - Linear Regression's performance is often assessed using metrics like Mean Squared Error (MSE) or R-squared, which quantify the accuracy of predictions.\n",
    "\n",
    "- **Example**:\n",
    "  - In a real-world scenario, Linear Regression can be applied to predict housing prices based on features like square footage, number of bedrooms, and location. The model would learn the relationship between these features and the house prices.\n",
    "\n",
    "**We will now create models by training them on the combination of the features selected from the above tests and visualize as well.**\n"
   ]
  },
  {
   "cell_type": "code",
   "execution_count": null,
   "id": "8ba5665e-65c8-437e-aec7-7ddbdc86f550",
   "metadata": {},
   "outputs": [],
   "source": [
    "\n",
    "X = df.drop(columns='charges', axis=1)\n",
    "Y = df['charges']"
   ]
  },
  {
   "cell_type": "code",
   "execution_count": null,
   "id": "dcceeb6c-c712-4421-9108-f94e49a9bfdb",
   "metadata": {},
   "outputs": [],
   "source": [
    "print(X)"
   ]
  },
  {
   "cell_type": "code",
   "execution_count": null,
   "id": "84f17737-8572-4777-b98b-64e2bc0f28e9",
   "metadata": {},
   "outputs": [],
   "source": [
    "print(Y)"
   ]
  },
  {
   "cell_type": "code",
   "execution_count": null,
   "id": "96870fc4-8e7e-4a0b-a307-1ad54987c637",
   "metadata": {},
   "outputs": [],
   "source": [
    "X_train, X_test, Y_train, Y_test = train_test_split(X, Y, test_size=0.2, random_state=2)"
   ]
  },
  {
   "cell_type": "code",
   "execution_count": null,
   "id": "0bd6aeaf-f329-439d-b908-6bdc32612b4e",
   "metadata": {},
   "outputs": [],
   "source": [
    "print(X.shape, X_train.shape, X_test.shape)"
   ]
  },
  {
   "cell_type": "code",
   "execution_count": null,
   "id": "b602f9e4-39a5-4a2a-b596-05ca3e82a159",
   "metadata": {},
   "outputs": [],
   "source": [
    "# loading the Linear Regression model\n",
    "regressor = LinearRegression()"
   ]
  },
  {
   "cell_type": "code",
   "execution_count": null,
   "id": "81802f61-1244-469a-ba51-c5c26a221627",
   "metadata": {},
   "outputs": [],
   "source": [
    "regressor.fit(X_train, Y_train)"
   ]
  },
  {
   "cell_type": "code",
   "execution_count": null,
   "id": "e8b43ee7-eb6f-42d0-9f59-3aafdf1f0bde",
   "metadata": {},
   "outputs": [],
   "source": [
    "# prediction on training data\n",
    "training_data_prediction =regressor.predict(X_train)"
   ]
  },
  {
   "cell_type": "code",
   "execution_count": null,
   "id": "e2ed45f8-4b75-4ca3-bdb0-182627a869c9",
   "metadata": {},
   "outputs": [],
   "source": [
    "# R squared value\n",
    "r2_train = metrics.r2_score(Y_train, training_data_prediction)\n",
    "print('R squared vale : ', r2_train)"
   ]
  },
  {
   "cell_type": "code",
   "execution_count": null,
   "id": "906390fe-5ef3-474e-8a90-ca6d1fc36039",
   "metadata": {},
   "outputs": [],
   "source": [
    "# prediction on test data\n",
    "test_data_prediction =regressor.predict(X_test)"
   ]
  },
  {
   "cell_type": "code",
   "execution_count": null,
   "id": "059f9c2c-ce5d-48b5-991a-ab07a0f77af9",
   "metadata": {},
   "outputs": [],
   "source": [
    "# R squared value\n",
    "r2_test = metrics.r2_score(Y_test, test_data_prediction)\n",
    "print('R squared vale : ', r2_test)"
   ]
  },
  {
   "cell_type": "code",
   "execution_count": null,
   "id": "09cc7c64-5541-47c5-bf7f-436eeed8b161",
   "metadata": {},
   "outputs": [],
   "source": [
    "regressor.coef_"
   ]
  },
  {
   "cell_type": "code",
   "execution_count": null,
   "id": "afab3c57-fab7-4546-98c0-dae3a3eb3b6d",
   "metadata": {},
   "outputs": [],
   "source": [
    "regressor.intercept_"
   ]
  },
  {
   "cell_type": "code",
   "execution_count": null,
   "id": "ef5babc3-9fbd-44b3-83a4-07dab062e526",
   "metadata": {},
   "outputs": [],
   "source": [
    "input_data = (31,1,25.74,0,1,0)\n",
    "\n",
    "# changing input_data to a numpy array\n",
    "input_data_as_numpy_array = np.asarray(input_data)\n",
    "\n",
    "# reshape the array\n",
    "input_data_reshaped = input_data_as_numpy_array.reshape(1,-1)\n",
    "\n",
    "prediction = regressor.predict(input_data_reshaped)\n",
    "print(prediction)\n",
    "\n",
    "print('The insurance cost is USD ', prediction[0])"
   ]
  },
  {
   "cell_type": "markdown",
   "id": "6b328730-b7f3-4c93-89ce-314a16e402e4",
   "metadata": {},
   "source": [
    "# <center>Conclusion</center>\n",
    "- Linear regression model is implemented with intercept as **11594.234**.\n",
    "- R squared value is **0.715**.\n",
    "- Medical insurance price is predicted based on the input provided by the user"
   ]
  }
 ],
 "metadata": {
  "kernelspec": {
   "display_name": "Python 3 (ipykernel)",
   "language": "python",
   "name": "python3"
  },
  "language_info": {
   "codemirror_mode": {
    "name": "ipython",
    "version": 3
   },
   "file_extension": ".py",
   "mimetype": "text/x-python",
   "name": "python",
   "nbconvert_exporter": "python",
   "pygments_lexer": "ipython3",
   "version": "3.11.3"
  }
 },
 "nbformat": 4,
 "nbformat_minor": 5
}
